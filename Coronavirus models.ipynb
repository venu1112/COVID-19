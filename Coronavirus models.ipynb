{
 "cells": [
  {
   "cell_type": "code",
   "execution_count": 1,
   "metadata": {},
   "outputs": [],
   "source": [
    "import numpy as np \n",
    "import pandas as pd \n",
    "import matplotlib.pyplot as plt\n",
    "import seaborn as sns\n",
    "import matplotlib.gridspec as gridspec\n",
    "import datetime\n",
    "from datetime import date\n",
    "from sklearn.linear_model import LinearRegression\n",
    "from sklearn.model_selection import train_test_split\n",
    "from sklearn.preprocessing import PolynomialFeatures\n",
    "from sklearn.svm import SVR\n",
    "from sklearn.metrics import r2_score\n",
    "from statsmodels.tsa.arima_model import ARIMA"
   ]
  },
  {
   "cell_type": "code",
   "execution_count": 2,
   "metadata": {},
   "outputs": [],
   "source": [
    "df= pd.read_csv('C:/Users/DELL/OneDrive/Desktop/project/covid_19_data.csv')\n",
    "confirmed_df= pd.read_csv('C:/Users/DELL/OneDrive/Desktop/project/confirmed.csv')\n",
    "deaths_df= pd.read_csv('C:/Users/DELL/OneDrive/Desktop/project/deaths.csv')\n",
    "recoveries_df= pd.read_csv('C:/Users/DELL/OneDrive/Desktop/project/recovered.csv')"
   ]
  },
  {
   "cell_type": "code",
   "execution_count": 3,
   "metadata": {},
   "outputs": [
    {
     "data": {
      "text/html": [
       "<div>\n",
       "<style scoped>\n",
       "    .dataframe tbody tr th:only-of-type {\n",
       "        vertical-align: middle;\n",
       "    }\n",
       "\n",
       "    .dataframe tbody tr th {\n",
       "        vertical-align: top;\n",
       "    }\n",
       "\n",
       "    .dataframe thead th {\n",
       "        text-align: right;\n",
       "    }\n",
       "</style>\n",
       "<table border=\"1\" class=\"dataframe\">\n",
       "  <thead>\n",
       "    <tr style=\"text-align: right;\">\n",
       "      <th></th>\n",
       "      <th>SNo</th>\n",
       "      <th>ObservationDate</th>\n",
       "      <th>Province/State</th>\n",
       "      <th>Country/Region</th>\n",
       "      <th>Last Update</th>\n",
       "      <th>Confirmed</th>\n",
       "      <th>Deaths</th>\n",
       "      <th>Recovered</th>\n",
       "    </tr>\n",
       "  </thead>\n",
       "  <tbody>\n",
       "    <tr>\n",
       "      <th>0</th>\n",
       "      <td>1</td>\n",
       "      <td>01/22/2020</td>\n",
       "      <td>Anhui</td>\n",
       "      <td>Mainland China</td>\n",
       "      <td>1/22/2020 17:00</td>\n",
       "      <td>1.0</td>\n",
       "      <td>0.0</td>\n",
       "      <td>0.0</td>\n",
       "    </tr>\n",
       "    <tr>\n",
       "      <th>1</th>\n",
       "      <td>2</td>\n",
       "      <td>01/22/2020</td>\n",
       "      <td>Beijing</td>\n",
       "      <td>Mainland China</td>\n",
       "      <td>1/22/2020 17:00</td>\n",
       "      <td>14.0</td>\n",
       "      <td>0.0</td>\n",
       "      <td>0.0</td>\n",
       "    </tr>\n",
       "    <tr>\n",
       "      <th>2</th>\n",
       "      <td>3</td>\n",
       "      <td>01/22/2020</td>\n",
       "      <td>Chongqing</td>\n",
       "      <td>Mainland China</td>\n",
       "      <td>1/22/2020 17:00</td>\n",
       "      <td>6.0</td>\n",
       "      <td>0.0</td>\n",
       "      <td>0.0</td>\n",
       "    </tr>\n",
       "    <tr>\n",
       "      <th>3</th>\n",
       "      <td>4</td>\n",
       "      <td>01/22/2020</td>\n",
       "      <td>Fujian</td>\n",
       "      <td>Mainland China</td>\n",
       "      <td>1/22/2020 17:00</td>\n",
       "      <td>1.0</td>\n",
       "      <td>0.0</td>\n",
       "      <td>0.0</td>\n",
       "    </tr>\n",
       "    <tr>\n",
       "      <th>4</th>\n",
       "      <td>5</td>\n",
       "      <td>01/22/2020</td>\n",
       "      <td>Gansu</td>\n",
       "      <td>Mainland China</td>\n",
       "      <td>1/22/2020 17:00</td>\n",
       "      <td>0.0</td>\n",
       "      <td>0.0</td>\n",
       "      <td>0.0</td>\n",
       "    </tr>\n",
       "  </tbody>\n",
       "</table>\n",
       "</div>"
      ],
      "text/plain": [
       "   SNo ObservationDate Province/State  Country/Region      Last Update  \\\n",
       "0    1      01/22/2020          Anhui  Mainland China  1/22/2020 17:00   \n",
       "1    2      01/22/2020        Beijing  Mainland China  1/22/2020 17:00   \n",
       "2    3      01/22/2020      Chongqing  Mainland China  1/22/2020 17:00   \n",
       "3    4      01/22/2020         Fujian  Mainland China  1/22/2020 17:00   \n",
       "4    5      01/22/2020          Gansu  Mainland China  1/22/2020 17:00   \n",
       "\n",
       "   Confirmed  Deaths  Recovered  \n",
       "0        1.0     0.0        0.0  \n",
       "1       14.0     0.0        0.0  \n",
       "2        6.0     0.0        0.0  \n",
       "3        1.0     0.0        0.0  \n",
       "4        0.0     0.0        0.0  "
      ]
     },
     "execution_count": 3,
     "metadata": {},
     "output_type": "execute_result"
    }
   ],
   "source": [
    "df.head()"
   ]
  },
  {
   "cell_type": "code",
   "execution_count": 4,
   "metadata": {},
   "outputs": [],
   "source": [
    "df=df[df['Confirmed']!=0]"
   ]
  },
  {
   "cell_type": "code",
   "execution_count": 5,
   "metadata": {},
   "outputs": [
    {
     "data": {
      "text/html": [
       "<div>\n",
       "<style scoped>\n",
       "    .dataframe tbody tr th:only-of-type {\n",
       "        vertical-align: middle;\n",
       "    }\n",
       "\n",
       "    .dataframe tbody tr th {\n",
       "        vertical-align: top;\n",
       "    }\n",
       "\n",
       "    .dataframe thead th {\n",
       "        text-align: right;\n",
       "    }\n",
       "</style>\n",
       "<table border=\"1\" class=\"dataframe\">\n",
       "  <thead>\n",
       "    <tr style=\"text-align: right;\">\n",
       "      <th></th>\n",
       "      <th>SNo</th>\n",
       "      <th>ObservationDate</th>\n",
       "      <th>Province/State</th>\n",
       "      <th>Country/Region</th>\n",
       "      <th>Last Update</th>\n",
       "      <th>Confirmed</th>\n",
       "      <th>Deaths</th>\n",
       "      <th>Recovered</th>\n",
       "    </tr>\n",
       "  </thead>\n",
       "  <tbody>\n",
       "    <tr>\n",
       "      <th>0</th>\n",
       "      <td>1</td>\n",
       "      <td>01/22/2020</td>\n",
       "      <td>Anhui</td>\n",
       "      <td>Mainland China</td>\n",
       "      <td>1/22/2020 17:00</td>\n",
       "      <td>1.0</td>\n",
       "      <td>0.0</td>\n",
       "      <td>0.0</td>\n",
       "    </tr>\n",
       "    <tr>\n",
       "      <th>1</th>\n",
       "      <td>2</td>\n",
       "      <td>01/22/2020</td>\n",
       "      <td>Beijing</td>\n",
       "      <td>Mainland China</td>\n",
       "      <td>1/22/2020 17:00</td>\n",
       "      <td>14.0</td>\n",
       "      <td>0.0</td>\n",
       "      <td>0.0</td>\n",
       "    </tr>\n",
       "    <tr>\n",
       "      <th>2</th>\n",
       "      <td>3</td>\n",
       "      <td>01/22/2020</td>\n",
       "      <td>Chongqing</td>\n",
       "      <td>Mainland China</td>\n",
       "      <td>1/22/2020 17:00</td>\n",
       "      <td>6.0</td>\n",
       "      <td>0.0</td>\n",
       "      <td>0.0</td>\n",
       "    </tr>\n",
       "    <tr>\n",
       "      <th>3</th>\n",
       "      <td>4</td>\n",
       "      <td>01/22/2020</td>\n",
       "      <td>Fujian</td>\n",
       "      <td>Mainland China</td>\n",
       "      <td>1/22/2020 17:00</td>\n",
       "      <td>1.0</td>\n",
       "      <td>0.0</td>\n",
       "      <td>0.0</td>\n",
       "    </tr>\n",
       "    <tr>\n",
       "      <th>5</th>\n",
       "      <td>6</td>\n",
       "      <td>01/22/2020</td>\n",
       "      <td>Guangdong</td>\n",
       "      <td>Mainland China</td>\n",
       "      <td>1/22/2020 17:00</td>\n",
       "      <td>26.0</td>\n",
       "      <td>0.0</td>\n",
       "      <td>0.0</td>\n",
       "    </tr>\n",
       "  </tbody>\n",
       "</table>\n",
       "</div>"
      ],
      "text/plain": [
       "   SNo ObservationDate Province/State  Country/Region      Last Update  \\\n",
       "0    1      01/22/2020          Anhui  Mainland China  1/22/2020 17:00   \n",
       "1    2      01/22/2020        Beijing  Mainland China  1/22/2020 17:00   \n",
       "2    3      01/22/2020      Chongqing  Mainland China  1/22/2020 17:00   \n",
       "3    4      01/22/2020         Fujian  Mainland China  1/22/2020 17:00   \n",
       "5    6      01/22/2020      Guangdong  Mainland China  1/22/2020 17:00   \n",
       "\n",
       "   Confirmed  Deaths  Recovered  \n",
       "0        1.0     0.0        0.0  \n",
       "1       14.0     0.0        0.0  \n",
       "2        6.0     0.0        0.0  \n",
       "3        1.0     0.0        0.0  \n",
       "5       26.0     0.0        0.0  "
      ]
     },
     "execution_count": 5,
     "metadata": {},
     "output_type": "execute_result"
    }
   ],
   "source": [
    "df.head()"
   ]
  },
  {
   "cell_type": "code",
   "execution_count": 6,
   "metadata": {},
   "outputs": [],
   "source": [
    "cols = confirmed_df.keys()"
   ]
  },
  {
   "cell_type": "code",
   "execution_count": 7,
   "metadata": {},
   "outputs": [],
   "source": [
    "confirmed = confirmed_df.loc[:, cols[4]:cols[-1]]\n",
    "deaths = deaths_df.loc[:, cols[4]:cols[-1]]\n",
    "recoveries = recoveries_df.loc[:, cols[4]:cols[-1]]"
   ]
  },
  {
   "cell_type": "code",
   "execution_count": 8,
   "metadata": {},
   "outputs": [],
   "source": [
    "dates = confirmed.keys()\n",
    "world_cases = []\n",
    "total_deaths = [] \n",
    "mortality_rate = []\n",
    "recovery_rate = [] \n",
    "total_recovered = [] \n",
    "total_active = [] \n",
    "\n",
    "india_cases=[]\n",
    "china_cases=[] \n",
    "italy_cases = []\n",
    "us_cases = [] \n",
    "spain_cases = [] \n",
    "france_cases = [] \n",
    "germany_cases = [] \n",
    "uk_cases = [] \n",
    "\n",
    "india_deaths=[]\n",
    "china_deaths = [] \n",
    "italy_deaths = []\n",
    "us_deaths = [] \n",
    "spain_deaths = [] \n",
    "france_deaths = [] \n",
    "germany_deaths = [] \n",
    "uk_deaths = [] \n",
    "\n",
    "india_recoveries=[]\n",
    "china_recoveries = [] \n",
    "italy_recoveries = []\n",
    "us_recoveries = [] \n",
    "spain_recoveries = [] \n",
    "france_recoveries = [] \n",
    "germany_recoveries = [] \n",
    "uk_recoveries = [] \n",
    "\n",
    "for i in dates:\n",
    "    confirmed_sum = confirmed[i].sum()\n",
    "    death_sum = deaths[i].sum()\n",
    "    recovered_sum = recoveries[i].sum()\n",
    "    \n",
    "    # confirmed, deaths, recovered, and active\n",
    "    world_cases.append(confirmed_sum)\n",
    "    total_deaths.append(death_sum)\n",
    "    total_recovered.append(recovered_sum)\n",
    "    total_active.append(confirmed_sum-death_sum-recovered_sum)\n",
    "    \n",
    "    # calculate rates\n",
    "    mortality_rate.append(death_sum/confirmed_sum)\n",
    "    recovery_rate.append(recovered_sum/confirmed_sum)\n",
    "\n",
    "    # case studies \n",
    "    india_cases.append(confirmed_df[confirmed_df['Country/Region']=='India'][i].sum())\n",
    "    china_cases.append(confirmed_df[confirmed_df['Country/Region']=='China'][i].sum())\n",
    "    italy_cases.append(confirmed_df[confirmed_df['Country/Region']=='Italy'][i].sum())\n",
    "    us_cases.append(confirmed_df[confirmed_df['Country/Region']=='US'][i].sum())\n",
    "    spain_cases.append(confirmed_df[confirmed_df['Country/Region']=='Spain'][i].sum())\n",
    "    france_cases.append(confirmed_df[confirmed_df['Country/Region']=='France'][i].sum())\n",
    "    germany_cases.append(confirmed_df[confirmed_df['Country/Region']=='Germany'][i].sum())\n",
    "    uk_cases.append(confirmed_df[confirmed_df['Country/Region']=='United Kingdom'][i].sum())\n",
    "    \n",
    "    india_deaths.append(deaths_df[deaths_df['Country/Region']=='India'][i].sum())\n",
    "    china_deaths.append(deaths_df[deaths_df['Country/Region']=='China'][i].sum())\n",
    "    italy_deaths.append(deaths_df[deaths_df['Country/Region']=='Italy'][i].sum())\n",
    "    us_deaths.append(deaths_df[deaths_df['Country/Region']=='US'][i].sum())\n",
    "    spain_deaths.append(deaths_df[deaths_df['Country/Region']=='Spain'][i].sum())\n",
    "    france_deaths.append(deaths_df[deaths_df['Country/Region']=='France'][i].sum())\n",
    "    germany_deaths.append(deaths_df[deaths_df['Country/Region']=='Germany'][i].sum())\n",
    "    uk_deaths.append(deaths_df[deaths_df['Country/Region']=='United Kingdom'][i].sum())\n",
    "    \n",
    "    india_recoveries.append(recoveries_df[recoveries_df['Country/Region']=='India'][i].sum())\n",
    "    china_recoveries.append(recoveries_df[recoveries_df['Country/Region']=='China'][i].sum())\n",
    "    italy_recoveries.append(recoveries_df[recoveries_df['Country/Region']=='Italy'][i].sum())\n",
    "    us_recoveries.append(recoveries_df[recoveries_df['Country/Region']=='US'][i].sum())\n",
    "    spain_recoveries.append(recoveries_df[recoveries_df['Country/Region']=='Spain'][i].sum())\n",
    "    france_recoveries.append(recoveries_df[recoveries_df['Country/Region']=='France'][i].sum())\n",
    "    germany_recoveries.append(recoveries_df[recoveries_df['Country/Region']=='Germany'][i].sum())\n",
    "    uk_recoveries.append(recoveries_df[recoveries_df['Country/Region']=='United Kingdom'][i].sum())"
   ]
  },
  {
   "cell_type": "code",
   "execution_count": 9,
   "metadata": {},
   "outputs": [],
   "source": [
    "def daily_increase(data):\n",
    "    d = [] \n",
    "    for i in range(len(data)):\n",
    "        if i == 0:\n",
    "            d.append(data[0])\n",
    "        else:\n",
    "            d.append(data[i]-data[i-1])\n",
    "    return d \n",
    "\n",
    "# confirmed cases\n",
    "world_daily_increase = daily_increase(world_cases)\n",
    "india_daily_increase = daily_increase(india_cases)\n",
    "china_daily_increase = daily_increase(china_cases)\n",
    "italy_daily_increase = daily_increase(italy_cases)\n",
    "us_daily_increase = daily_increase(us_cases)\n",
    "spain_daily_increase = daily_increase(spain_cases)\n",
    "france_daily_increase = daily_increase(france_cases)\n",
    "germany_daily_increase = daily_increase(germany_cases)\n",
    "uk_daily_increase = daily_increase(uk_cases)\n",
    "\n",
    "# deaths\n",
    "world_daily_death = daily_increase(total_deaths)\n",
    "india_daily_death = daily_increase(india_deaths)\n",
    "china_daily_death = daily_increase(china_deaths)\n",
    "italy_daily_death = daily_increase(italy_deaths)\n",
    "us_daily_death = daily_increase(us_deaths)\n",
    "spain_daily_death = daily_increase(spain_deaths)\n",
    "france_daily_death = daily_increase(france_deaths)\n",
    "germany_daily_death = daily_increase(germany_deaths)\n",
    "uk_daily_death = daily_increase(uk_deaths)\n",
    "\n",
    "# recoveries\n",
    "world_daily_recovery = daily_increase(total_recovered)\n",
    "india_daily_recovery = daily_increase(india_recoveries)\n",
    "china_daily_recovery = daily_increase(china_recoveries)\n",
    "italy_daily_recovery = daily_increase(italy_recoveries)\n",
    "us_daily_recovery = daily_increase(us_recoveries)\n",
    "spain_daily_recovery = daily_increase(spain_recoveries)\n",
    "france_daily_recovery = daily_increase(france_recoveries)\n",
    "germany_daily_recovery = daily_increase(germany_recoveries)\n",
    "uk_daily_recovery = daily_increase(uk_recoveries)"
   ]
  },
  {
   "cell_type": "code",
   "execution_count": 10,
   "metadata": {},
   "outputs": [],
   "source": [
    "days_since_1_22 = np.array([i for i in range(len(dates))]).reshape(-1, 1)\n",
    "world_cases = np.array(world_cases).reshape(-1, 1)\n",
    "total_deaths = np.array(total_deaths).reshape(-1, 1)\n",
    "total_recovered = np.array(total_recovered).reshape(-1, 1)"
   ]
  },
  {
   "cell_type": "code",
   "execution_count": 11,
   "metadata": {},
   "outputs": [],
   "source": [
    "days_in_future = 10\n",
    "future_forcast = np.array([i for i in range(len(dates)+days_in_future)]).reshape(-1, 1)\n",
    "adjusted_dates = future_forcast[:-10]"
   ]
  },
  {
   "cell_type": "code",
   "execution_count": 12,
   "metadata": {},
   "outputs": [],
   "source": [
    "start = '1/22/2020'\n",
    "start_date = datetime.datetime.strptime(start, '%m/%d/%Y')\n",
    "future_forcast_dates = []\n",
    "for i in range(len(future_forcast)):\n",
    "    future_forcast_dates.append((start_date + datetime.timedelta(days=i)).strftime('%m/%d/%Y'))"
   ]
  },
  {
   "cell_type": "code",
   "execution_count": 13,
   "metadata": {},
   "outputs": [],
   "source": [
    "X_train_confirmed, X_test_confirmed, y_train_confirmed, y_test_confirmed = train_test_split(days_since_1_22, india_cases,\n",
    "                                                                                            test_size=0.4, shuffle=False) "
   ]
  },
  {
   "cell_type": "code",
   "execution_count": 14,
   "metadata": {},
   "outputs": [],
   "source": [
    "# svm_confirmed = svm_search.best_estimator_\n",
    "svm_confirmed = SVR(shrinking=True, kernel='poly',gamma=0.01, epsilon=1,degree=6, C=0.1)\n",
    "svm_confirmed.fit(X_train_confirmed, y_train_confirmed)\n",
    "svm_pred = svm_confirmed.predict(future_forcast)"
   ]
  },
  {
   "cell_type": "code",
   "execution_count": 15,
   "metadata": {},
   "outputs": [
    {
     "name": "stdout",
     "output_type": "stream",
     "text": [
      "R score: 0.9544629883205045\n"
     ]
    },
    {
     "data": {
      "image/png": "[encoded data removed]",
      "text/plain": [
       "<Figure size 432x288 with 1 Axes>"
      ]
     },
     "metadata": {
      "needs_background": "light"
     },
     "output_type": "display_data"
    }
   ],
   "source": [
    "# check against testing data\n",
    "svm_test_pred = svm_confirmed.predict(X_test_confirmed)\n",
    "plt.plot(y_test_confirmed)\n",
    "plt.plot(svm_test_pred)\n",
    "\n",
    "plt.legend(['Test Data', 'SVM Predictions'])\n",
    "print('R score:',r2_score(y_test_confirmed,svm_test_pred))"
   ]
  },
  {
   "cell_type": "code",
   "execution_count": null,
   "metadata": {},
   "outputs": [],
   "source": []
  },
  {
   "cell_type": "code",
   "execution_count": 16,
   "metadata": {},
   "outputs": [
    {
     "data": {
      "text/html": [
       "<div>\n",
       "<style scoped>\n",
       "    .dataframe tbody tr th:only-of-type {\n",
       "        vertical-align: middle;\n",
       "    }\n",
       "\n",
       "    .dataframe tbody tr th {\n",
       "        vertical-align: top;\n",
       "    }\n",
       "\n",
       "    .dataframe thead th {\n",
       "        text-align: right;\n",
       "    }\n",
       "</style>\n",
       "<table border=\"1\" class=\"dataframe\">\n",
       "  <thead>\n",
       "    <tr style=\"text-align: right;\">\n",
       "      <th></th>\n",
       "      <th>Date</th>\n",
       "      <th>Predicted of Confirmed Cases in india</th>\n",
       "    </tr>\n",
       "  </thead>\n",
       "  <tbody>\n",
       "    <tr>\n",
       "      <th>0</th>\n",
       "      <td>08/02/2020</td>\n",
       "      <td>2012582.0</td>\n",
       "    </tr>\n",
       "    <tr>\n",
       "      <th>1</th>\n",
       "      <td>08/03/2020</td>\n",
       "      <td>2075969.0</td>\n",
       "    </tr>\n",
       "    <tr>\n",
       "      <th>2</th>\n",
       "      <td>08/04/2020</td>\n",
       "      <td>2141011.0</td>\n",
       "    </tr>\n",
       "    <tr>\n",
       "      <th>3</th>\n",
       "      <td>08/05/2020</td>\n",
       "      <td>2207743.0</td>\n",
       "    </tr>\n",
       "    <tr>\n",
       "      <th>4</th>\n",
       "      <td>08/06/2020</td>\n",
       "      <td>2276199.0</td>\n",
       "    </tr>\n",
       "    <tr>\n",
       "      <th>5</th>\n",
       "      <td>08/07/2020</td>\n",
       "      <td>2346414.0</td>\n",
       "    </tr>\n",
       "    <tr>\n",
       "      <th>6</th>\n",
       "      <td>08/08/2020</td>\n",
       "      <td>2418425.0</td>\n",
       "    </tr>\n",
       "    <tr>\n",
       "      <th>7</th>\n",
       "      <td>08/09/2020</td>\n",
       "      <td>2492269.0</td>\n",
       "    </tr>\n",
       "    <tr>\n",
       "      <th>8</th>\n",
       "      <td>08/10/2020</td>\n",
       "      <td>2567981.0</td>\n",
       "    </tr>\n",
       "    <tr>\n",
       "      <th>9</th>\n",
       "      <td>08/11/2020</td>\n",
       "      <td>2645601.0</td>\n",
       "    </tr>\n",
       "  </tbody>\n",
       "</table>\n",
       "</div>"
      ],
      "text/plain": [
       "         Date  Predicted of Confirmed Cases in india\n",
       "0  08/02/2020                              2012582.0\n",
       "1  08/03/2020                              2075969.0\n",
       "2  08/04/2020                              2141011.0\n",
       "3  08/05/2020                              2207743.0\n",
       "4  08/06/2020                              2276199.0\n",
       "5  08/07/2020                              2346414.0\n",
       "6  08/08/2020                              2418425.0\n",
       "7  08/09/2020                              2492269.0\n",
       "8  08/10/2020                              2567981.0\n",
       "9  08/11/2020                              2645601.0"
      ]
     },
     "execution_count": 16,
     "metadata": {},
     "output_type": "execute_result"
    }
   ],
   "source": [
    "# Future predictions using SVM \n",
    "svm_ind = pd.DataFrame({'Date': future_forcast_dates[-10:],'Predicted of Confirmed Cases in india': np.round(svm_pred[-10:])})\n",
    "svm_ind"
   ]
  },
  {
   "cell_type": "code",
   "execution_count": 17,
   "metadata": {},
   "outputs": [],
   "source": [
    "x_train_confirmed, x_test_confirmed, Y_train_confirmed, Y_test_confirmed = train_test_split(days_since_1_22, india_cases,\n",
    "                                                                                            test_size=0.3, shuffle=False) "
   ]
  },
  {
   "cell_type": "code",
   "execution_count": 18,
   "metadata": {},
   "outputs": [],
   "source": [
    "# transform our data for polynomial regression\n",
    "poly = PolynomialFeatures(degree=5)\n",
    "poly_x_train_confirmed = poly.fit_transform(x_train_confirmed)\n",
    "poly_x_test_confirmed = poly.fit_transform(x_test_confirmed)\n",
    "poly_future_forcast = poly.fit_transform(future_forcast)"
   ]
  },
  {
   "cell_type": "code",
   "execution_count": 19,
   "metadata": {},
   "outputs": [],
   "source": [
    "# polynomial regression\n",
    "linear_model = LinearRegression(normalize=True, fit_intercept=True)\n",
    "linear_model.fit(poly_x_train_confirmed, Y_train_confirmed)\n",
    "test_linear_pred = linear_model.predict(poly_x_test_confirmed)\n",
    "linear_pred = linear_model.predict(poly_future_forcast)"
   ]
  },
  {
   "cell_type": "code",
   "execution_count": 20,
   "metadata": {},
   "outputs": [
    {
     "name": "stdout",
     "output_type": "stream",
     "text": [
      "R score: 0.9942354701438186\n"
     ]
    },
    {
     "data": {
      "image/png": "[encoded data removed]",
      "text/plain": [
       "<Figure size 432x288 with 1 Axes>"
      ]
     },
     "metadata": {
      "needs_background": "light"
     },
     "output_type": "display_data"
    }
   ],
   "source": [
    "plt.plot(Y_test_confirmed)\n",
    "plt.plot(test_linear_pred)\n",
    "plt.legend(['Test Data', 'Polynomial Regression Predictions'])\n",
    "print('R score:',r2_score(Y_test_confirmed,test_linear_pred))"
   ]
  },
  {
   "cell_type": "code",
   "execution_count": null,
   "metadata": {},
   "outputs": [],
   "source": []
  },
  {
   "cell_type": "code",
   "execution_count": 21,
   "metadata": {},
   "outputs": [
    {
     "data": {
      "text/html": [
       "<div>\n",
       "<style scoped>\n",
       "    .dataframe tbody tr th:only-of-type {\n",
       "        vertical-align: middle;\n",
       "    }\n",
       "\n",
       "    .dataframe tbody tr th {\n",
       "        vertical-align: top;\n",
       "    }\n",
       "\n",
       "    .dataframe thead th {\n",
       "        text-align: right;\n",
       "    }\n",
       "</style>\n",
       "<table border=\"1\" class=\"dataframe\">\n",
       "  <thead>\n",
       "    <tr style=\"text-align: right;\">\n",
       "      <th></th>\n",
       "      <th>Date</th>\n",
       "      <th>Predicted Confirmed Cases in India</th>\n",
       "    </tr>\n",
       "  </thead>\n",
       "  <tbody>\n",
       "    <tr>\n",
       "      <th>0</th>\n",
       "      <td>08/02/2020</td>\n",
       "      <td>1747539.0</td>\n",
       "    </tr>\n",
       "    <tr>\n",
       "      <th>1</th>\n",
       "      <td>08/03/2020</td>\n",
       "      <td>1797429.0</td>\n",
       "    </tr>\n",
       "    <tr>\n",
       "      <th>2</th>\n",
       "      <td>08/04/2020</td>\n",
       "      <td>1848444.0</td>\n",
       "    </tr>\n",
       "    <tr>\n",
       "      <th>3</th>\n",
       "      <td>08/05/2020</td>\n",
       "      <td>1900604.0</td>\n",
       "    </tr>\n",
       "    <tr>\n",
       "      <th>4</th>\n",
       "      <td>08/06/2020</td>\n",
       "      <td>1953927.0</td>\n",
       "    </tr>\n",
       "    <tr>\n",
       "      <th>5</th>\n",
       "      <td>08/07/2020</td>\n",
       "      <td>2008433.0</td>\n",
       "    </tr>\n",
       "    <tr>\n",
       "      <th>6</th>\n",
       "      <td>08/08/2020</td>\n",
       "      <td>2064142.0</td>\n",
       "    </tr>\n",
       "    <tr>\n",
       "      <th>7</th>\n",
       "      <td>08/09/2020</td>\n",
       "      <td>2121072.0</td>\n",
       "    </tr>\n",
       "    <tr>\n",
       "      <th>8</th>\n",
       "      <td>08/10/2020</td>\n",
       "      <td>2179244.0</td>\n",
       "    </tr>\n",
       "    <tr>\n",
       "      <th>9</th>\n",
       "      <td>08/11/2020</td>\n",
       "      <td>2238679.0</td>\n",
       "    </tr>\n",
       "  </tbody>\n",
       "</table>\n",
       "</div>"
      ],
      "text/plain": [
       "         Date  Predicted Confirmed Cases in India\n",
       "0  08/02/2020                           1747539.0\n",
       "1  08/03/2020                           1797429.0\n",
       "2  08/04/2020                           1848444.0\n",
       "3  08/05/2020                           1900604.0\n",
       "4  08/06/2020                           1953927.0\n",
       "5  08/07/2020                           2008433.0\n",
       "6  08/08/2020                           2064142.0\n",
       "7  08/09/2020                           2121072.0\n",
       "8  08/10/2020                           2179244.0\n",
       "9  08/11/2020                           2238679.0"
      ]
     },
     "execution_count": 21,
     "metadata": {},
     "output_type": "execute_result"
    }
   ],
   "source": [
    "# Future predictions using polynomial regression\n",
    "linear_pred = linear_pred.reshape(1,-1)[0]\n",
    "poly_ind = pd.DataFrame({'Date': future_forcast_dates[-10:],'Predicted Confirmed Cases in India': np.round(linear_pred[-10:])})\n",
    "poly_ind"
   ]
  },
  {
   "cell_type": "markdown",
   "metadata": {},
   "source": [
    "# worldwide cases"
   ]
  },
  {
   "cell_type": "code",
   "execution_count": 22,
   "metadata": {},
   "outputs": [],
   "source": [
    "#X_train_confirmed, X_test_confirmed, y_train_confirmed, y_test_confirmed = train_test_split(days_since_1_22, world_cases,\n",
    "                                                                                            #test_size=0.1, shuffle=False) "
   ]
  },
  {
   "cell_type": "code",
   "execution_count": 23,
   "metadata": {},
   "outputs": [
    {
     "data": {
      "text/plain": [
       "\"svm_confirmed = SVR(shrinking=True, kernel='poly',gamma=0.01, epsilon=1,degree=7, C=0.1)\\nsvm_confirmed.fit(X_train_confirmed, y_train_confirmed)\\nsvm_pred = svm_confirmed.predict(future_forcast)\""
      ]
     },
     "execution_count": 23,
     "metadata": {},
     "output_type": "execute_result"
    }
   ],
   "source": [
    "# svm_confirmed = svm_search.best_estimator_\n",
    "'''svm_confirmed = SVR(shrinking=True, kernel='poly',gamma=0.01, epsilon=1,degree=7, C=0.1)\n",
    "svm_confirmed.fit(X_train_confirmed, y_train_confirmed)\n",
    "svm_pred = svm_confirmed.predict(future_forcast)'''"
   ]
  },
  {
   "cell_type": "code",
   "execution_count": 24,
   "metadata": {},
   "outputs": [
    {
     "data": {
      "text/plain": [
       "\"svm_test_pred = svm_confirmed.predict(X_test_confirmed)\\nplt.plot(y_test_confirmed)\\nplt.plot(svm_test_pred)\\nplt.legend(['Test Data', 'SVM Predictions'])\\nr2_score(y_test_confirmed,svm_test_pred)\""
      ]
     },
     "execution_count": 24,
     "metadata": {},
     "output_type": "execute_result"
    }
   ],
   "source": [
    "# check against testing data\n",
    "'''svm_test_pred = svm_confirmed.predict(X_test_confirmed)\n",
    "plt.plot(y_test_confirmed)\n",
    "plt.plot(svm_test_pred)\n",
    "plt.legend(['Test Data', 'SVM Predictions'])\n",
    "r2_score(y_test_confirmed,svm_test_pred)'''"
   ]
  },
  {
   "cell_type": "code",
   "execution_count": 25,
   "metadata": {},
   "outputs": [],
   "source": [
    "# Future predictions using SVM \n",
    "#svm_world = pd.DataFrame({'Date': future_forcast_dates[-10:],'Predicted of Confirmed Cases in world': np.round(svm_pred[-10:])})\n",
    "#svm_world"
   ]
  },
  {
   "cell_type": "code",
   "execution_count": null,
   "metadata": {},
   "outputs": [],
   "source": []
  },
  {
   "cell_type": "code",
   "execution_count": 26,
   "metadata": {},
   "outputs": [],
   "source": [
    "x_train_confirmed, x_test_confirmed, Y_train_confirmed, Y_test_confirmed = train_test_split(days_since_1_22, world_cases,\n",
    "                                                                                            test_size=0.4, shuffle=False) "
   ]
  },
  {
   "cell_type": "code",
   "execution_count": 27,
   "metadata": {},
   "outputs": [],
   "source": [
    "# transform our data for polynomial regression\n",
    "poly = PolynomialFeatures(degree=2)\n",
    "poly_x_train_confirmed = poly.fit_transform(x_train_confirmed)\n",
    "poly_x_test_confirmed = poly.fit_transform(x_test_confirmed)\n",
    "poly_future_forcast = poly.fit_transform(future_forcast)"
   ]
  },
  {
   "cell_type": "code",
   "execution_count": 28,
   "metadata": {},
   "outputs": [],
   "source": [
    "# polynomial regression\n",
    "linear_model = LinearRegression(normalize=True, fit_intercept=True)\n",
    "linear_model.fit(poly_x_train_confirmed, Y_train_confirmed)\n",
    "test_linear_pred = linear_model.predict(poly_x_test_confirmed)\n",
    "linear_pred = linear_model.predict(poly_future_forcast)"
   ]
  },
  {
   "cell_type": "code",
   "execution_count": 29,
   "metadata": {},
   "outputs": [
    {
     "name": "stdout",
     "output_type": "stream",
     "text": [
      "R score: 0.9852863584945944\n"
     ]
    },
    {
     "data": {
      "image/png": "[encoded data removed]",
      "text/plain": [
       "<Figure size 432x288 with 1 Axes>"
      ]
     },
     "metadata": {
      "needs_background": "light"
     },
     "output_type": "display_data"
    }
   ],
   "source": [
    "plt.plot(Y_test_confirmed)\n",
    "plt.plot(test_linear_pred)\n",
    "plt.legend(['Test Data', 'Polynomial Regression Predictions'])\n",
    "print('R score:',r2_score(Y_test_confirmed,test_linear_pred))"
   ]
  },
  {
   "cell_type": "code",
   "execution_count": null,
   "metadata": {},
   "outputs": [],
   "source": []
  },
  {
   "cell_type": "code",
   "execution_count": 30,
   "metadata": {},
   "outputs": [
    {
     "data": {
      "text/html": [
       "<div>\n",
       "<style scoped>\n",
       "    .dataframe tbody tr th:only-of-type {\n",
       "        vertical-align: middle;\n",
       "    }\n",
       "\n",
       "    .dataframe tbody tr th {\n",
       "        vertical-align: top;\n",
       "    }\n",
       "\n",
       "    .dataframe thead th {\n",
       "        text-align: right;\n",
       "    }\n",
       "</style>\n",
       "<table border=\"1\" class=\"dataframe\">\n",
       "  <thead>\n",
       "    <tr style=\"text-align: right;\">\n",
       "      <th></th>\n",
       "      <th>Date</th>\n",
       "      <th>Predicted Confirmed Cases worldwide</th>\n",
       "    </tr>\n",
       "  </thead>\n",
       "  <tbody>\n",
       "    <tr>\n",
       "      <th>0</th>\n",
       "      <td>08/02/2020</td>\n",
       "      <td>17182879.0</td>\n",
       "    </tr>\n",
       "    <tr>\n",
       "      <th>1</th>\n",
       "      <td>08/03/2020</td>\n",
       "      <td>17390700.0</td>\n",
       "    </tr>\n",
       "    <tr>\n",
       "      <th>2</th>\n",
       "      <td>08/04/2020</td>\n",
       "      <td>17599762.0</td>\n",
       "    </tr>\n",
       "    <tr>\n",
       "      <th>3</th>\n",
       "      <td>08/05/2020</td>\n",
       "      <td>17810064.0</td>\n",
       "    </tr>\n",
       "    <tr>\n",
       "      <th>4</th>\n",
       "      <td>08/06/2020</td>\n",
       "      <td>18021606.0</td>\n",
       "    </tr>\n",
       "    <tr>\n",
       "      <th>5</th>\n",
       "      <td>08/07/2020</td>\n",
       "      <td>18234389.0</td>\n",
       "    </tr>\n",
       "    <tr>\n",
       "      <th>6</th>\n",
       "      <td>08/08/2020</td>\n",
       "      <td>18448412.0</td>\n",
       "    </tr>\n",
       "    <tr>\n",
       "      <th>7</th>\n",
       "      <td>08/09/2020</td>\n",
       "      <td>18663676.0</td>\n",
       "    </tr>\n",
       "    <tr>\n",
       "      <th>8</th>\n",
       "      <td>08/10/2020</td>\n",
       "      <td>18880180.0</td>\n",
       "    </tr>\n",
       "    <tr>\n",
       "      <th>9</th>\n",
       "      <td>08/11/2020</td>\n",
       "      <td>19097924.0</td>\n",
       "    </tr>\n",
       "  </tbody>\n",
       "</table>\n",
       "</div>"
      ],
      "text/plain": [
       "         Date  Predicted Confirmed Cases worldwide\n",
       "0  08/02/2020                           17182879.0\n",
       "1  08/03/2020                           17390700.0\n",
       "2  08/04/2020                           17599762.0\n",
       "3  08/05/2020                           17810064.0\n",
       "4  08/06/2020                           18021606.0\n",
       "5  08/07/2020                           18234389.0\n",
       "6  08/08/2020                           18448412.0\n",
       "7  08/09/2020                           18663676.0\n",
       "8  08/10/2020                           18880180.0\n",
       "9  08/11/2020                           19097924.0"
      ]
     },
     "execution_count": 30,
     "metadata": {},
     "output_type": "execute_result"
    }
   ],
   "source": [
    "# Future predictions using polynomial regression\n",
    "linear_pred = linear_pred.reshape(1,-1)[0]\n",
    "poly_world = pd.DataFrame({'Date': future_forcast_dates[-10:],'Predicted Confirmed Cases worldwide': np.round(linear_pred[-10:])})\n",
    "poly_world"
   ]
  },
  {
   "cell_type": "code",
   "execution_count": null,
   "metadata": {},
   "outputs": [],
   "source": []
  },
  {
   "cell_type": "code",
   "execution_count": 31,
   "metadata": {},
   "outputs": [],
   "source": [
    "df['ObservationDate'] = pd.to_datetime(df['ObservationDate'])\n",
    "#df['Last Update'] = pd.to_datetime(df['Last Update'])\n",
    "df['Confirmed']=df['Confirmed'].astype('int')\n",
    "df['Deaths']=df['Deaths'].astype('int')\n",
    "df['Recovered']=df['Recovered'].astype('int')"
   ]
  },
  {
   "cell_type": "code",
   "execution_count": 32,
   "metadata": {},
   "outputs": [
    {
     "data": {
      "image/png": "[encoded data removed]",
      "text/plain": [
       "<Figure size 720x576 with 1 Axes>"
      ]
     },
     "metadata": {
      "needs_background": "light"
     },
     "output_type": "display_data"
    }
   ],
   "source": [
    "world_cases=df\n",
    "world_cases['date'] = world_cases['ObservationDate'].dt.date\n",
    "world_cases['date']=pd.to_datetime(world_cases['date'])\n",
    "world_cases = world_cases[world_cases['date'] > pd.Timestamp(date(2020,1,21))]\n",
    "num_plot= world_cases.groupby('date')[\"Confirmed\", \"Recovered\", \"Deaths\"].sum()\n",
    "num_plot.plot(figsize=(10,8),colormap='winter',title='Per Day statistics for world',marker='o')\n",
    "num_plot_world=num_plot.reset_index()"
   ]
  },
  {
   "cell_type": "code",
   "execution_count": 33,
   "metadata": {},
   "outputs": [
    {
     "data": {
      "text/plain": [
       "[Text(0, 0.5, 'Confirmed Cases'), Text(0.5, 0, 'Date')]"
      ]
     },
     "execution_count": 33,
     "metadata": {},
     "output_type": "execute_result"
    },
    {
     "data": {
      "image/png": "[encoded data removed]",
      "text/plain": [
       "<Figure size 720x576 with 1 Axes>"
      ]
     },
     "metadata": {
      "needs_background": "light"
     },
     "output_type": "display_data"
    }
   ],
   "source": [
    "#Current number of confirmed cases\n",
    "ax = num_plot_world['Confirmed'].plot(title=\"Confirmed Cases in world\",figsize=(10,8));\n",
    "ax.set(xlabel=\"Date\", ylabel=\"Confirmed Cases\")"
   ]
  },
  {
   "cell_type": "code",
   "execution_count": 34,
   "metadata": {},
   "outputs": [
    {
     "name": "stderr",
     "output_type": "stream",
     "text": [
      "C:\\ProgramData\\Anaconda3\\lib\\site-packages\\ipykernel_launcher.py:2: SettingWithCopyWarning: \n",
      "A value is trying to be set on a copy of a slice from a DataFrame.\n",
      "Try using .loc[row_indexer,col_indexer] = value instead\n",
      "\n",
      "See the caveats in the documentation: http://pandas.pydata.org/pandas-docs/stable/indexing.html#indexing-view-versus-copy\n",
      "  \n",
      "C:\\ProgramData\\Anaconda3\\lib\\site-packages\\ipykernel_launcher.py:3: SettingWithCopyWarning: \n",
      "A value is trying to be set on a copy of a slice from a DataFrame.\n",
      "Try using .loc[row_indexer,col_indexer] = value instead\n",
      "\n",
      "See the caveats in the documentation: http://pandas.pydata.org/pandas-docs/stable/indexing.html#indexing-view-versus-copy\n",
      "  This is separate from the ipykernel package so we can avoid doing imports until\n"
     ]
    },
    {
     "data": {
      "image/png": "[encoded data removed]",
      "text/plain": [
       "<Figure size 576x576 with 1 Axes>"
      ]
     },
     "metadata": {
      "needs_background": "light"
     },
     "output_type": "display_data"
    }
   ],
   "source": [
    "india_cases_complete=df.loc[df['Country/Region']=='India']\n",
    "india_cases_complete['date'] = india_cases_complete['ObservationDate'].dt.date\n",
    "india_cases_complete['date']=pd.to_datetime(india_cases_complete['date'])\n",
    "india_cases_complete = india_cases_complete[india_cases_complete['date'] > pd.Timestamp(date(2020,1,21))]\n",
    "num_plot1= india_cases_complete.groupby('date')[\"Confirmed\", \"Recovered\", \"Deaths\"].sum()\n",
    "num_plot1.plot(figsize=(8,8),colormap='winter',title='Per Day statistics for India',marker='o')\n",
    "num_plot_india=num_plot1.reset_index()"
   ]
  },
  {
   "cell_type": "code",
   "execution_count": 35,
   "metadata": {},
   "outputs": [
    {
     "data": {
      "image/png": "[encoded data removed]",
      "text/plain": [
       "<Figure size 720x576 with 1 Axes>"
      ]
     },
     "metadata": {
      "needs_background": "light"
     },
     "output_type": "display_data"
    }
   ],
   "source": [
    "#Current number of confirmed cases\n",
    "ax = num_plot_india['Confirmed'].plot(title=\"Confirmed Cases in India\",figsize=(10,8));\n",
    "ax.set(xlabel=\"Date\", ylabel=\"Confirmed Cases\");"
   ]
  },
  {
   "cell_type": "code",
   "execution_count": 36,
   "metadata": {},
   "outputs": [],
   "source": [
    "a=num_plot_world[['date','Confirmed']]"
   ]
  },
  {
   "cell_type": "code",
   "execution_count": 37,
   "metadata": {},
   "outputs": [
    {
     "data": {
      "text/html": [
       "<div>\n",
       "<style scoped>\n",
       "    .dataframe tbody tr th:only-of-type {\n",
       "        vertical-align: middle;\n",
       "    }\n",
       "\n",
       "    .dataframe tbody tr th {\n",
       "        vertical-align: top;\n",
       "    }\n",
       "\n",
       "    .dataframe thead th {\n",
       "        text-align: right;\n",
       "    }\n",
       "</style>\n",
       "<table border=\"1\" class=\"dataframe\">\n",
       "  <thead>\n",
       "    <tr style=\"text-align: right;\">\n",
       "      <th></th>\n",
       "      <th>Confirmed</th>\n",
       "    </tr>\n",
       "    <tr>\n",
       "      <th>date</th>\n",
       "      <th></th>\n",
       "    </tr>\n",
       "  </thead>\n",
       "  <tbody>\n",
       "    <tr>\n",
       "      <th>2020-01-22</th>\n",
       "      <td>555</td>\n",
       "    </tr>\n",
       "    <tr>\n",
       "      <th>2020-01-23</th>\n",
       "      <td>653</td>\n",
       "    </tr>\n",
       "    <tr>\n",
       "      <th>2020-01-24</th>\n",
       "      <td>941</td>\n",
       "    </tr>\n",
       "    <tr>\n",
       "      <th>2020-01-25</th>\n",
       "      <td>1438</td>\n",
       "    </tr>\n",
       "    <tr>\n",
       "      <th>2020-01-26</th>\n",
       "      <td>2118</td>\n",
       "    </tr>\n",
       "  </tbody>\n",
       "</table>\n",
       "</div>"
      ],
      "text/plain": [
       "            Confirmed\n",
       "date                 \n",
       "2020-01-22        555\n",
       "2020-01-23        653\n",
       "2020-01-24        941\n",
       "2020-01-25       1438\n",
       "2020-01-26       2118"
      ]
     },
     "execution_count": 37,
     "metadata": {},
     "output_type": "execute_result"
    }
   ],
   "source": [
    "a.set_index('date',inplace=True)\n",
    "a.head()"
   ]
  },
  {
   "cell_type": "code",
   "execution_count": 38,
   "metadata": {},
   "outputs": [
    {
     "data": {
      "text/plain": [
       "<matplotlib.axes._subplots.AxesSubplot at 0x22449e88668>"
      ]
     },
     "execution_count": 38,
     "metadata": {},
     "output_type": "execute_result"
    },
    {
     "data": {
      "image/png": "[encoded data removed]",
      "text/plain": [
       "<Figure size 432x288 with 1 Axes>"
      ]
     },
     "metadata": {
      "needs_background": "light"
     },
     "output_type": "display_data"
    }
   ],
   "source": [
    "a.plot()"
   ]
  },
  {
   "cell_type": "code",
   "execution_count": 39,
   "metadata": {},
   "outputs": [],
   "source": [
    "from statsmodels.tsa.stattools import adfuller"
   ]
  },
  {
   "cell_type": "code",
   "execution_count": 40,
   "metadata": {},
   "outputs": [],
   "source": [
    "test_result=adfuller(a['Confirmed'])"
   ]
  },
  {
   "cell_type": "code",
   "execution_count": 41,
   "metadata": {},
   "outputs": [],
   "source": [
    "def adfuller_test(confirmed):\n",
    "    result=adfuller(confirmed)\n",
    "    lables=['ADF Test Statstic','p-value','#lags used','no of observations used']\n",
    "    for value,lable in zip(result,lables):\n",
    "        print(lable+':'+str(value))\n",
    "    if result[1]<=0.05:\n",
    "        print('data is stationary')\n",
    "    else:\n",
    "        print('data is non stationary')"
   ]
  },
  {
   "cell_type": "code",
   "execution_count": 42,
   "metadata": {},
   "outputs": [
    {
     "name": "stdout",
     "output_type": "stream",
     "text": [
      "ADF Test Statstic:1.3816473043682713\n",
      "p-value:0.9970291527041599\n",
      "#lags used:12\n",
      "no of observations used:180\n",
      "data is non stationary\n"
     ]
    }
   ],
   "source": [
    "adfuller_test(a['Confirmed'])"
   ]
  },
  {
   "cell_type": "code",
   "execution_count": 43,
   "metadata": {},
   "outputs": [
    {
     "name": "stderr",
     "output_type": "stream",
     "text": [
      "C:\\ProgramData\\Anaconda3\\lib\\site-packages\\ipykernel_launcher.py:1: SettingWithCopyWarning: \n",
      "A value is trying to be set on a copy of a slice from a DataFrame.\n",
      "Try using .loc[row_indexer,col_indexer] = value instead\n",
      "\n",
      "See the caveats in the documentation: http://pandas.pydata.org/pandas-docs/stable/indexing.html#indexing-view-versus-copy\n",
      "  \"\"\"Entry point for launching an IPython kernel.\n"
     ]
    }
   ],
   "source": [
    "a['first diff']=a['Confirmed']-a['Confirmed'].shift(55)"
   ]
  },
  {
   "cell_type": "code",
   "execution_count": 44,
   "metadata": {},
   "outputs": [
    {
     "name": "stdout",
     "output_type": "stream",
     "text": [
      "ADF Test Statstic:1.3783062990094206\n",
      "p-value:0.997013327750644\n",
      "#lags used:12\n",
      "no of observations used:125\n",
      "data is non stationary\n"
     ]
    }
   ],
   "source": [
    "adfuller_test(a['first diff'].dropna())"
   ]
  },
  {
   "cell_type": "code",
   "execution_count": 45,
   "metadata": {},
   "outputs": [
    {
     "data": {
      "text/plain": [
       "<matplotlib.axes._subplots.AxesSubplot at 0x22449af9dd8>"
      ]
     },
     "execution_count": 45,
     "metadata": {},
     "output_type": "execute_result"
    },
    {
     "data": {
      "image/png": "[encoded data removed]",
      "text/plain": [
       "<Figure size 432x288 with 1 Axes>"
      ]
     },
     "metadata": {
      "needs_background": "light"
     },
     "output_type": "display_data"
    }
   ],
   "source": [
    "a['first diff'].plot()"
   ]
  },
  {
   "cell_type": "code",
   "execution_count": 46,
   "metadata": {},
   "outputs": [],
   "source": [
    "from statsmodels.graphics.tsaplots import plot_acf,plot_pacf"
   ]
  },
  {
   "cell_type": "code",
   "execution_count": 47,
   "metadata": {},
   "outputs": [
    {
     "data": {
      "image/png": "[encoded data removed]",
      "text/plain": [
       "<Figure size 864x576 with 2 Axes>"
      ]
     },
     "metadata": {
      "needs_background": "light"
     },
     "output_type": "display_data"
    }
   ],
   "source": [
    "fig=plt.figure(figsize=(12,8))\n",
    "ax1=fig.add_subplot(211)\n",
    "fig=plot_acf(a['first diff'].iloc[57:],lags=40,ax=ax1)\n",
    "ax2=fig.add_subplot(212)\n",
    "fig=plot_pacf(a['first diff'].iloc[57:],lags=40,ax=ax2)"
   ]
  },
  {
   "cell_type": "code",
   "execution_count": null,
   "metadata": {},
   "outputs": [],
   "source": []
  },
  {
   "cell_type": "code",
   "execution_count": null,
   "metadata": {},
   "outputs": [],
   "source": []
  },
  {
   "cell_type": "code",
   "execution_count": 48,
   "metadata": {},
   "outputs": [],
   "source": [
    "train1= num_plot_world.iloc[:-5,:2]\n",
    "test1= num_plot_world.iloc[-5:,:2]"
   ]
  },
  {
   "cell_type": "code",
   "execution_count": 49,
   "metadata": {},
   "outputs": [],
   "source": [
    "train1.rename(columns={\"date\":\"ds1\",\"Confirmed\":\"y1\"},inplace=True)\n",
    "test1.rename(columns={\"date\":\"ds1\",\"Confirmed\":\"y1\"},inplace=True)\n",
    "test1= test1.set_index(\"ds1\")\n",
    "test1= test1['y1']"
   ]
  },
  {
   "cell_type": "code",
   "execution_count": 50,
   "metadata": {},
   "outputs": [
    {
     "data": {
      "text/plain": [
       "[<matplotlib.lines.Line2D at 0x2244c81c908>]"
      ]
     },
     "execution_count": 50,
     "metadata": {},
     "output_type": "execute_result"
    },
    {
     "data": {
      "image/png": "[encoded data removed]",
      "text/plain": [
       "<Figure size 864x576 with 1 Axes>"
      ]
     },
     "metadata": {
      "needs_background": "light"
     },
     "output_type": "display_data"
    }
   ],
   "source": [
    "arima = ARIMA(train1['y1'], order=(7, 2, 0))\n",
    "arima = arima.fit(trend='nc', full_output=True, disp=True)\n",
    "forecast = arima.forecast(steps= 15)\n",
    "pred = list(forecast[0])\n",
    "start_date = train1['ds1'].max()\n",
    "prediction_dates = []\n",
    "for i in range(15):\n",
    "    date = start_date + datetime.timedelta(days=1)\n",
    "    prediction_dates.append(date)\n",
    "    start_date = date\n",
    "plt.figure(figsize= (12,8))\n",
    "plt.xlabel(\"Dates\",fontsize = 10)\n",
    "plt.ylabel('Total cases',fontsize = 10)\n",
    "plt.title(\"Predicted Values for the next 10 Days\" , fontsize = 20)\n",
    "\n",
    "plt.plot_date(y= pred,x= prediction_dates,linestyle ='dashed',color = 'blue',label = 'Predicted')\n",
    "plt.plot_date(y=train1['y1'].tail(15),x=train1['ds1'].tail(15),linestyle = '-',color = 'orange',label = 'Actual')"
   ]
  },
  {
   "cell_type": "code",
   "execution_count": 55,
   "metadata": {},
   "outputs": [],
   "source": [
    "pred=pd.DataFrame(forecast[0],columns=['Predicted for world'])\n",
    "dates=pd.DataFrame(prediction_dates,columns=['Date'])\n",
    "arima_df=pd.merge(dates,pred,right_index=True,left_index=True)"
   ]
  },
  {
   "cell_type": "code",
   "execution_count": 57,
   "metadata": {},
   "outputs": [],
   "source": [
    "arima_df['Predicted for world']=arima_df['Predicted for world'].astype(int)"
   ]
  },
  {
   "cell_type": "code",
   "execution_count": 58,
   "metadata": {},
   "outputs": [
    {
     "data": {
      "text/html": [
       "<div>\n",
       "<style scoped>\n",
       "    .dataframe tbody tr th:only-of-type {\n",
       "        vertical-align: middle;\n",
       "    }\n",
       "\n",
       "    .dataframe tbody tr th {\n",
       "        vertical-align: top;\n",
       "    }\n",
       "\n",
       "    .dataframe thead th {\n",
       "        text-align: right;\n",
       "    }\n",
       "</style>\n",
       "<table border=\"1\" class=\"dataframe\">\n",
       "  <thead>\n",
       "    <tr style=\"text-align: right;\">\n",
       "      <th></th>\n",
       "      <th>Date</th>\n",
       "      <th>Predicted for world</th>\n",
       "    </tr>\n",
       "  </thead>\n",
       "  <tbody>\n",
       "    <tr>\n",
       "      <th>5</th>\n",
       "      <td>2020-08-02</td>\n",
       "      <td>18037466</td>\n",
       "    </tr>\n",
       "    <tr>\n",
       "      <th>6</th>\n",
       "      <td>2020-08-03</td>\n",
       "      <td>18279693</td>\n",
       "    </tr>\n",
       "    <tr>\n",
       "      <th>7</th>\n",
       "      <td>2020-08-04</td>\n",
       "      <td>18539334</td>\n",
       "    </tr>\n",
       "    <tr>\n",
       "      <th>8</th>\n",
       "      <td>2020-08-05</td>\n",
       "      <td>18814280</td>\n",
       "    </tr>\n",
       "    <tr>\n",
       "      <th>9</th>\n",
       "      <td>2020-08-06</td>\n",
       "      <td>19088759</td>\n",
       "    </tr>\n",
       "    <tr>\n",
       "      <th>10</th>\n",
       "      <td>2020-08-07</td>\n",
       "      <td>19344970</td>\n",
       "    </tr>\n",
       "    <tr>\n",
       "      <th>11</th>\n",
       "      <td>2020-08-08</td>\n",
       "      <td>19584790</td>\n",
       "    </tr>\n",
       "    <tr>\n",
       "      <th>12</th>\n",
       "      <td>2020-08-09</td>\n",
       "      <td>19823879</td>\n",
       "    </tr>\n",
       "    <tr>\n",
       "      <th>13</th>\n",
       "      <td>2020-08-10</td>\n",
       "      <td>20072364</td>\n",
       "    </tr>\n",
       "    <tr>\n",
       "      <th>14</th>\n",
       "      <td>2020-08-11</td>\n",
       "      <td>20335709</td>\n",
       "    </tr>\n",
       "  </tbody>\n",
       "</table>\n",
       "</div>"
      ],
      "text/plain": [
       "         Date  Predicted for world\n",
       "5  2020-08-02             18037466\n",
       "6  2020-08-03             18279693\n",
       "7  2020-08-04             18539334\n",
       "8  2020-08-05             18814280\n",
       "9  2020-08-06             19088759\n",
       "10 2020-08-07             19344970\n",
       "11 2020-08-08             19584790\n",
       "12 2020-08-09             19823879\n",
       "13 2020-08-10             20072364\n",
       "14 2020-08-11             20335709"
      ]
     },
     "execution_count": 58,
     "metadata": {},
     "output_type": "execute_result"
    }
   ],
   "source": [
    "arima_df.tail(10)"
   ]
  },
  {
   "cell_type": "code",
   "execution_count": null,
   "metadata": {},
   "outputs": [],
   "source": []
  },
  {
   "cell_type": "code",
   "execution_count": 59,
   "metadata": {},
   "outputs": [],
   "source": [
    "train = num_plot_india.iloc[:-5,:2]\n",
    "test = num_plot_india.iloc[-5:,:2]"
   ]
  },
  {
   "cell_type": "code",
   "execution_count": 60,
   "metadata": {},
   "outputs": [],
   "source": [
    "train.dropna(inplace=True)\n",
    "test.dropna(inplace=True)"
   ]
  },
  {
   "cell_type": "code",
   "execution_count": 61,
   "metadata": {},
   "outputs": [],
   "source": [
    "train.rename(columns={\"date\":\"ds\",\"Confirmed\":\"y\"},inplace=True)\n",
    "test.rename(columns={\"date\":\"ds\",\"Confirmed\":\"y\"},inplace=True)\n",
    "test = test.set_index(\"ds\")\n",
    "test = test['y']"
   ]
  },
  {
   "cell_type": "code",
   "execution_count": 62,
   "metadata": {
    "scrolled": false
   },
   "outputs": [
    {
     "data": {
      "text/plain": [
       "[<matplotlib.lines.Line2D at 0x2244ce0d908>]"
      ]
     },
     "execution_count": 62,
     "metadata": {},
     "output_type": "execute_result"
    },
    {
     "data": {
      "image/png": "[encoded data removed]",
      "text/plain": [
       "<Figure size 1440x720 with 1 Axes>"
      ]
     },
     "metadata": {
      "needs_background": "light"
     },
     "output_type": "display_data"
    }
   ],
   "source": [
    "arima = ARIMA(train['y'], order=(7, 2, 0))\n",
    "arima = arima.fit(trend='nc', full_output=True, disp=True)\n",
    "forecast = arima.forecast(steps= 15)\n",
    "pred = list(forecast[0])\n",
    "start_date = train['ds'].max()\n",
    "prediction_dates = []\n",
    "for i in range(15):\n",
    "    date = start_date + datetime.timedelta(days=1)\n",
    "    prediction_dates.append(date)\n",
    "    start_date = date\n",
    "plt.figure(figsize= (20,10))\n",
    "plt.xlabel(\"Dates\",fontsize = 10)\n",
    "plt.ylabel('Total cases',fontsize = 10)\n",
    "plt.title(\"Predicted Values for the next 10 Days\" , fontsize = 20)\n",
    "\n",
    "plt.plot_date(y= pred,x= prediction_dates,linestyle ='dashed',color = 'blue',label = 'Predicted')\n",
    "plt.plot_date(y=train['y'].tail(15),x=train['ds'].tail(15),linestyle = '-',color = 'orange',label = 'Actual')"
   ]
  },
  {
   "cell_type": "code",
   "execution_count": 64,
   "metadata": {},
   "outputs": [],
   "source": [
    "pred1=pd.DataFrame(forecast[0],columns=['Predicted for India'])\n",
    "dates1=pd.DataFrame(prediction_dates,columns=['Date'])\n",
    "arima_df1=pd.merge(dates1,pred1,right_index=True,left_index=True)"
   ]
  },
  {
   "cell_type": "code",
   "execution_count": 66,
   "metadata": {},
   "outputs": [],
   "source": [
    "arima_df1['Predicted for India']=arima_df1['Predicted for India'].astype(int)"
   ]
  },
  {
   "cell_type": "code",
   "execution_count": 67,
   "metadata": {},
   "outputs": [
    {
     "data": {
      "text/html": [
       "<div>\n",
       "<style scoped>\n",
       "    .dataframe tbody tr th:only-of-type {\n",
       "        vertical-align: middle;\n",
       "    }\n",
       "\n",
       "    .dataframe tbody tr th {\n",
       "        vertical-align: top;\n",
       "    }\n",
       "\n",
       "    .dataframe thead th {\n",
       "        text-align: right;\n",
       "    }\n",
       "</style>\n",
       "<table border=\"1\" class=\"dataframe\">\n",
       "  <thead>\n",
       "    <tr style=\"text-align: right;\">\n",
       "      <th></th>\n",
       "      <th>Date</th>\n",
       "      <th>Predicted for India</th>\n",
       "    </tr>\n",
       "  </thead>\n",
       "  <tbody>\n",
       "    <tr>\n",
       "      <th>5</th>\n",
       "      <td>2020-08-02</td>\n",
       "      <td>1778123</td>\n",
       "    </tr>\n",
       "    <tr>\n",
       "      <th>6</th>\n",
       "      <td>2020-08-03</td>\n",
       "      <td>1827868</td>\n",
       "    </tr>\n",
       "    <tr>\n",
       "      <th>7</th>\n",
       "      <td>2020-08-04</td>\n",
       "      <td>1878052</td>\n",
       "    </tr>\n",
       "    <tr>\n",
       "      <th>8</th>\n",
       "      <td>2020-08-05</td>\n",
       "      <td>1928216</td>\n",
       "    </tr>\n",
       "    <tr>\n",
       "      <th>9</th>\n",
       "      <td>2020-08-06</td>\n",
       "      <td>1978262</td>\n",
       "    </tr>\n",
       "    <tr>\n",
       "      <th>10</th>\n",
       "      <td>2020-08-07</td>\n",
       "      <td>2027957</td>\n",
       "    </tr>\n",
       "    <tr>\n",
       "      <th>11</th>\n",
       "      <td>2020-08-08</td>\n",
       "      <td>2078531</td>\n",
       "    </tr>\n",
       "    <tr>\n",
       "      <th>12</th>\n",
       "      <td>2020-08-09</td>\n",
       "      <td>2128475</td>\n",
       "    </tr>\n",
       "    <tr>\n",
       "      <th>13</th>\n",
       "      <td>2020-08-10</td>\n",
       "      <td>2178875</td>\n",
       "    </tr>\n",
       "    <tr>\n",
       "      <th>14</th>\n",
       "      <td>2020-08-11</td>\n",
       "      <td>2228963</td>\n",
       "    </tr>\n",
       "  </tbody>\n",
       "</table>\n",
       "</div>"
      ],
      "text/plain": [
       "         Date  Predicted for India\n",
       "5  2020-08-02              1778123\n",
       "6  2020-08-03              1827868\n",
       "7  2020-08-04              1878052\n",
       "8  2020-08-05              1928216\n",
       "9  2020-08-06              1978262\n",
       "10 2020-08-07              2027957\n",
       "11 2020-08-08              2078531\n",
       "12 2020-08-09              2128475\n",
       "13 2020-08-10              2178875\n",
       "14 2020-08-11              2228963"
      ]
     },
     "execution_count": 67,
     "metadata": {},
     "output_type": "execute_result"
    }
   ],
   "source": [
    "arima_df1.tail(10)"
   ]
  },
  {
   "cell_type": "code",
   "execution_count": null,
   "metadata": {},
   "outputs": [],
   "source": []
  },
  {
   "cell_type": "code",
   "execution_count": 68,
   "metadata": {},
   "outputs": [],
   "source": [
    "test=test.reset_index()"
   ]
  },
  {
   "cell_type": "code",
   "execution_count": 69,
   "metadata": {},
   "outputs": [],
   "source": [
    "df1=pd.DataFrame(forecast[0],columns=['yhat'])\n",
    "df2=pd.DataFrame(prediction_dates,columns=['ds'])\n",
    "df3=test['y']\n",
    "df4=pd.merge(df2,df3,right_index=True,left_index=True)\n",
    "df5=pd.merge(df4,df1,right_index=True,left_index=True)"
   ]
  },
  {
   "cell_type": "code",
   "execution_count": 70,
   "metadata": {},
   "outputs": [],
   "source": [
    "df5['mse'],df5['rmse'],df5['mae'],df5['mape'],df5['mdape']=[0,0,0,0,0]"
   ]
  },
  {
   "cell_type": "code",
   "execution_count": 71,
   "metadata": {},
   "outputs": [
    {
     "name": "stderr",
     "output_type": "stream",
     "text": [
      "C:\\ProgramData\\Anaconda3\\lib\\site-packages\\ipykernel_launcher.py:3: SettingWithCopyWarning: \n",
      "A value is trying to be set on a copy of a slice from a DataFrame\n",
      "\n",
      "See the caveats in the documentation: http://pandas.pydata.org/pandas-docs/stable/indexing.html#indexing-view-versus-copy\n",
      "  This is separate from the ipykernel package so we can avoid doing imports until\n",
      "C:\\ProgramData\\Anaconda3\\lib\\site-packages\\pandas\\core\\indexing.py:190: SettingWithCopyWarning: \n",
      "A value is trying to be set on a copy of a slice from a DataFrame\n",
      "\n",
      "See the caveats in the documentation: http://pandas.pydata.org/pandas-docs/stable/indexing.html#indexing-view-versus-copy\n",
      "  self._setitem_with_indexer(indexer, value)\n",
      "C:\\ProgramData\\Anaconda3\\lib\\site-packages\\ipykernel_launcher.py:5: SettingWithCopyWarning: \n",
      "A value is trying to be set on a copy of a slice from a DataFrame\n",
      "\n",
      "See the caveats in the documentation: http://pandas.pydata.org/pandas-docs/stable/indexing.html#indexing-view-versus-copy\n",
      "  \"\"\"\n",
      "C:\\ProgramData\\Anaconda3\\lib\\site-packages\\ipykernel_launcher.py:7: SettingWithCopyWarning: \n",
      "A value is trying to be set on a copy of a slice from a DataFrame\n",
      "\n",
      "See the caveats in the documentation: http://pandas.pydata.org/pandas-docs/stable/indexing.html#indexing-view-versus-copy\n",
      "  import sys\n",
      "C:\\ProgramData\\Anaconda3\\lib\\site-packages\\ipykernel_launcher.py:9: SettingWithCopyWarning: \n",
      "A value is trying to be set on a copy of a slice from a DataFrame\n",
      "\n",
      "See the caveats in the documentation: http://pandas.pydata.org/pandas-docs/stable/indexing.html#indexing-view-versus-copy\n",
      "  if __name__ == '__main__':\n",
      "C:\\ProgramData\\Anaconda3\\lib\\site-packages\\ipykernel_launcher.py:11: SettingWithCopyWarning: \n",
      "A value is trying to be set on a copy of a slice from a DataFrame\n",
      "\n",
      "See the caveats in the documentation: http://pandas.pydata.org/pandas-docs/stable/indexing.html#indexing-view-versus-copy\n",
      "  # This is added back by InteractiveShellApp.init_path()\n"
     ]
    }
   ],
   "source": [
    "for t in range(len(test)):\n",
    "    mape =  np.mean(np.abs(df5['yhat'][t] - df5['y'][t])/np.abs(df5['y'][t]))\n",
    "    df5['mape'][t]=\"{:.5f}\".format(mape)\n",
    "    mdape =  np.median(np.abs(df5['yhat'][t] - df5['y'][t])/np.abs(df5['y'][t]))\n",
    "    df5['mdape'][t]=\"{:.5f}\".format(mdape)\n",
    "    mae = np.mean(np.abs(df5['yhat'][t] - df5['y'][t]))\n",
    "    df5['mae'][t]=mae\n",
    "    mse = np.mean((df5['yhat'][t] - df5['y'][t])**2)\n",
    "    df5['mse'][t]=mse\n",
    "    rmse = np.mean((df5['yhat'][t] - df5['y'][t])**2)**.5\n",
    "    df5['rmse'][t]=rmse"
   ]
  },
  {
   "cell_type": "code",
   "execution_count": 72,
   "metadata": {},
   "outputs": [
    {
     "data": {
      "text/html": [
       "<div>\n",
       "<style scoped>\n",
       "    .dataframe tbody tr th:only-of-type {\n",
       "        vertical-align: middle;\n",
       "    }\n",
       "\n",
       "    .dataframe tbody tr th {\n",
       "        vertical-align: top;\n",
       "    }\n",
       "\n",
       "    .dataframe thead th {\n",
       "        text-align: right;\n",
       "    }\n",
       "</style>\n",
       "<table border=\"1\" class=\"dataframe\">\n",
       "  <thead>\n",
       "    <tr style=\"text-align: right;\">\n",
       "      <th></th>\n",
       "      <th>ds</th>\n",
       "      <th>y</th>\n",
       "      <th>yhat</th>\n",
       "      <th>mse</th>\n",
       "      <th>rmse</th>\n",
       "      <th>mae</th>\n",
       "      <th>mape</th>\n",
       "      <th>mdape</th>\n",
       "    </tr>\n",
       "  </thead>\n",
       "  <tbody>\n",
       "    <tr>\n",
       "      <th>0</th>\n",
       "      <td>2020-07-28</td>\n",
       "      <td>1483156</td>\n",
       "      <td>1.530102e+06</td>\n",
       "      <td>2203928890</td>\n",
       "      <td>46946</td>\n",
       "      <td>46946</td>\n",
       "      <td>0.03165</td>\n",
       "      <td>0.03165</td>\n",
       "    </tr>\n",
       "    <tr>\n",
       "      <th>1</th>\n",
       "      <td>2020-07-29</td>\n",
       "      <td>1581963</td>\n",
       "      <td>1.579664e+06</td>\n",
       "      <td>5283179</td>\n",
       "      <td>2298</td>\n",
       "      <td>2298</td>\n",
       "      <td>0.00145</td>\n",
       "      <td>0.00145</td>\n",
       "    </tr>\n",
       "    <tr>\n",
       "      <th>2</th>\n",
       "      <td>2020-07-30</td>\n",
       "      <td>1634746</td>\n",
       "      <td>1.630430e+06</td>\n",
       "      <td>18625574</td>\n",
       "      <td>4315</td>\n",
       "      <td>4315</td>\n",
       "      <td>0.00264</td>\n",
       "      <td>0.00264</td>\n",
       "    </tr>\n",
       "    <tr>\n",
       "      <th>3</th>\n",
       "      <td>2020-07-31</td>\n",
       "      <td>1695988</td>\n",
       "      <td>1.678412e+06</td>\n",
       "      <td>308907841</td>\n",
       "      <td>17575</td>\n",
       "      <td>17575</td>\n",
       "      <td>0.01036</td>\n",
       "      <td>0.01036</td>\n",
       "    </tr>\n",
       "    <tr>\n",
       "      <th>4</th>\n",
       "      <td>2020-08-01</td>\n",
       "      <td>1750723</td>\n",
       "      <td>1.728763e+06</td>\n",
       "      <td>482232245</td>\n",
       "      <td>21959</td>\n",
       "      <td>21959</td>\n",
       "      <td>0.01254</td>\n",
       "      <td>0.01254</td>\n",
       "    </tr>\n",
       "  </tbody>\n",
       "</table>\n",
       "</div>"
      ],
      "text/plain": [
       "          ds        y          yhat         mse   rmse    mae     mape  \\\n",
       "0 2020-07-28  1483156  1.530102e+06  2203928890  46946  46946  0.03165   \n",
       "1 2020-07-29  1581963  1.579664e+06     5283179   2298   2298  0.00145   \n",
       "2 2020-07-30  1634746  1.630430e+06    18625574   4315   4315  0.00264   \n",
       "3 2020-07-31  1695988  1.678412e+06   308907841  17575  17575  0.01036   \n",
       "4 2020-08-01  1750723  1.728763e+06   482232245  21959  21959  0.01254   \n",
       "\n",
       "     mdape  \n",
       "0  0.03165  \n",
       "1  0.00145  \n",
       "2  0.00264  \n",
       "3  0.01036  \n",
       "4  0.01254  "
      ]
     },
     "execution_count": 72,
     "metadata": {},
     "output_type": "execute_result"
    }
   ],
   "source": [
    "df5"
   ]
  },
  {
   "cell_type": "code",
   "execution_count": null,
   "metadata": {},
   "outputs": [],
   "source": []
  },
  {
   "cell_type": "code",
   "execution_count": 74,
   "metadata": {},
   "outputs": [],
   "source": [
    "dates=arima_df.tail(10)['Date']\n",
    "aw=arima_df.tail(10)['Predicted for world']\n",
    "ai=arima_df1.tail(10)['Predicted for India']\n",
    "pw=poly_world['Predicted Confirmed Cases worldwide']\n",
    "pi=poly_ind['Predicted Confirmed Cases in India']\n",
    "#sw=svm_world['Predicted of Confirmed Cases in world']\n",
    "si=svm_ind['Predicted of Confirmed Cases in india']"
   ]
  },
  {
   "cell_type": "code",
   "execution_count": null,
   "metadata": {},
   "outputs": [],
   "source": []
  },
  {
   "cell_type": "code",
   "execution_count": 75,
   "metadata": {},
   "outputs": [
    {
     "data": {
      "text/html": [
       "<div>\n",
       "<style scoped>\n",
       "    .dataframe tbody tr th:only-of-type {\n",
       "        vertical-align: middle;\n",
       "    }\n",
       "\n",
       "    .dataframe tbody tr th {\n",
       "        vertical-align: top;\n",
       "    }\n",
       "\n",
       "    .dataframe thead th {\n",
       "        text-align: right;\n",
       "    }\n",
       "</style>\n",
       "<table border=\"1\" class=\"dataframe\">\n",
       "  <thead>\n",
       "    <tr style=\"text-align: right;\">\n",
       "      <th></th>\n",
       "      <th>Date</th>\n",
       "      <th>Polynonmial Regression Prediction for world</th>\n",
       "      <th>Arima prediction for world</th>\n",
       "      <th>SVM Prediction for India</th>\n",
       "      <th>Polynonmial Regression Prediction for India</th>\n",
       "      <th>Arima prediction for India</th>\n",
       "    </tr>\n",
       "  </thead>\n",
       "  <tbody>\n",
       "    <tr>\n",
       "      <th>0</th>\n",
       "      <td>2020-08-02</td>\n",
       "      <td>17182879.0</td>\n",
       "      <td>18037466</td>\n",
       "      <td>2012582.0</td>\n",
       "      <td>1747539.0</td>\n",
       "      <td>1778123</td>\n",
       "    </tr>\n",
       "    <tr>\n",
       "      <th>1</th>\n",
       "      <td>2020-08-03</td>\n",
       "      <td>17390700.0</td>\n",
       "      <td>18279693</td>\n",
       "      <td>2075969.0</td>\n",
       "      <td>1797429.0</td>\n",
       "      <td>1827868</td>\n",
       "    </tr>\n",
       "    <tr>\n",
       "      <th>2</th>\n",
       "      <td>2020-08-04</td>\n",
       "      <td>17599762.0</td>\n",
       "      <td>18539334</td>\n",
       "      <td>2141011.0</td>\n",
       "      <td>1848444.0</td>\n",
       "      <td>1878052</td>\n",
       "    </tr>\n",
       "    <tr>\n",
       "      <th>3</th>\n",
       "      <td>2020-08-05</td>\n",
       "      <td>17810064.0</td>\n",
       "      <td>18814280</td>\n",
       "      <td>2207743.0</td>\n",
       "      <td>1900604.0</td>\n",
       "      <td>1928216</td>\n",
       "    </tr>\n",
       "    <tr>\n",
       "      <th>4</th>\n",
       "      <td>2020-08-06</td>\n",
       "      <td>18021606.0</td>\n",
       "      <td>19088759</td>\n",
       "      <td>2276199.0</td>\n",
       "      <td>1953927.0</td>\n",
       "      <td>1978262</td>\n",
       "    </tr>\n",
       "    <tr>\n",
       "      <th>5</th>\n",
       "      <td>2020-08-07</td>\n",
       "      <td>18234389.0</td>\n",
       "      <td>19344970</td>\n",
       "      <td>2346414.0</td>\n",
       "      <td>2008433.0</td>\n",
       "      <td>2027957</td>\n",
       "    </tr>\n",
       "    <tr>\n",
       "      <th>6</th>\n",
       "      <td>2020-08-08</td>\n",
       "      <td>18448412.0</td>\n",
       "      <td>19584790</td>\n",
       "      <td>2418425.0</td>\n",
       "      <td>2064142.0</td>\n",
       "      <td>2078531</td>\n",
       "    </tr>\n",
       "    <tr>\n",
       "      <th>7</th>\n",
       "      <td>2020-08-09</td>\n",
       "      <td>18663676.0</td>\n",
       "      <td>19823879</td>\n",
       "      <td>2492269.0</td>\n",
       "      <td>2121072.0</td>\n",
       "      <td>2128475</td>\n",
       "    </tr>\n",
       "    <tr>\n",
       "      <th>8</th>\n",
       "      <td>2020-08-10</td>\n",
       "      <td>18880180.0</td>\n",
       "      <td>20072364</td>\n",
       "      <td>2567981.0</td>\n",
       "      <td>2179244.0</td>\n",
       "      <td>2178875</td>\n",
       "    </tr>\n",
       "    <tr>\n",
       "      <th>9</th>\n",
       "      <td>2020-08-11</td>\n",
       "      <td>19097924.0</td>\n",
       "      <td>20335709</td>\n",
       "      <td>2645601.0</td>\n",
       "      <td>2238679.0</td>\n",
       "      <td>2228963</td>\n",
       "    </tr>\n",
       "  </tbody>\n",
       "</table>\n",
       "</div>"
      ],
      "text/plain": [
       "        Date  Polynonmial Regression Prediction for world  \\\n",
       "0 2020-08-02                                   17182879.0   \n",
       "1 2020-08-03                                   17390700.0   \n",
       "2 2020-08-04                                   17599762.0   \n",
       "3 2020-08-05                                   17810064.0   \n",
       "4 2020-08-06                                   18021606.0   \n",
       "5 2020-08-07                                   18234389.0   \n",
       "6 2020-08-08                                   18448412.0   \n",
       "7 2020-08-09                                   18663676.0   \n",
       "8 2020-08-10                                   18880180.0   \n",
       "9 2020-08-11                                   19097924.0   \n",
       "\n",
       "   Arima prediction for world  SVM Prediction for India  \\\n",
       "0                    18037466                 2012582.0   \n",
       "1                    18279693                 2075969.0   \n",
       "2                    18539334                 2141011.0   \n",
       "3                    18814280                 2207743.0   \n",
       "4                    19088759                 2276199.0   \n",
       "5                    19344970                 2346414.0   \n",
       "6                    19584790                 2418425.0   \n",
       "7                    19823879                 2492269.0   \n",
       "8                    20072364                 2567981.0   \n",
       "9                    20335709                 2645601.0   \n",
       "\n",
       "   Polynonmial Regression Prediction for India  Arima prediction for India  \n",
       "0                                    1747539.0                     1778123  \n",
       "1                                    1797429.0                     1827868  \n",
       "2                                    1848444.0                     1878052  \n",
       "3                                    1900604.0                     1928216  \n",
       "4                                    1953927.0                     1978262  \n",
       "5                                    2008433.0                     2027957  \n",
       "6                                    2064142.0                     2078531  \n",
       "7                                    2121072.0                     2128475  \n",
       "8                                    2179244.0                     2178875  \n",
       "9                                    2238679.0                     2228963  "
      ]
     },
     "execution_count": 75,
     "metadata": {},
     "output_type": "execute_result"
    }
   ],
   "source": [
    "model_predictions=pd.DataFrame(zip(dates,pw,aw,si,pi,ai),\n",
    "                               columns=['Date','Polynonmial Regression Prediction for world',\n",
    "                                       'Arima prediction for world','SVM Prediction for India',\n",
    "                                       'Polynonmial Regression Prediction for India','Arima prediction for India'])\n",
    "model_predictions"
   ]
  },
  {
   "cell_type": "code",
   "execution_count": null,
   "metadata": {},
   "outputs": [],
   "source": []
  },
  {
   "cell_type": "code",
   "execution_count": null,
   "metadata": {},
   "outputs": [],
   "source": []
  },
  {
   "cell_type": "code",
   "execution_count": null,
   "metadata": {},
   "outputs": [],
   "source": []
  },
  {
   "cell_type": "code",
   "execution_count": null,
   "metadata": {},
   "outputs": [],
   "source": []
  },
  {
   "cell_type": "code",
   "execution_count": null,
   "metadata": {},
   "outputs": [],
   "source": []
  },
  {
   "cell_type": "code",
   "execution_count": null,
   "metadata": {},
   "outputs": [],
   "source": []
  }
 ],
 "metadata": {
  "kernelspec": {
   "display_name": "Python 3",
   "language": "python",
   "name": "python3"
  },
  "language_info": {
   "codemirror_mode": {
    "name": "ipython",
    "version": 3
   },
   "file_extension": ".py",
   "mimetype": "text/x-python",
   "name": "python",
   "nbconvert_exporter": "python",
   "pygments_lexer": "ipython3",
   "version": "3.7.3"
  }
 },
 "nbformat": 4,
 "nbformat_minor": 4
}
